{
 "cells": [
  {
   "cell_type": "code",
   "execution_count": 1,
   "id": "d6166de1-b1e9-4271-af64-b02bd986768a",
   "metadata": {},
   "outputs": [],
   "source": [
    "#Two body reactions DWBA\n",
    "import numpy as np"
   ]
  },
  {
   "cell_type": "code",
   "execution_count": null,
   "id": "beae916e-6a17-46fe-9ccd-c64132b977c3",
   "metadata": {},
   "outputs": [],
   "source": [
    "#Variables to define later\n",
    "#U = 1\n",
    "#dU = 1\n",
    "\n",
    "#Defined equations \n",
    "#V = U + dU\n"
   ]
  },
  {
   "cell_type": "code",
   "execution_count": null,
   "id": "c475f496-7ebc-4ebf-b5ed-01109b584358",
   "metadata": {},
   "outputs": [],
   "source": [
    "#Transition matrix\n",
    "def transition_matrix(beta,alpha,n,l,j):\n",
    "    #Variables to redefine\n",
    "    AnljB = 1\n",
    "    dU = 1 #matrix \n",
    "    \n",
    "    ##\n",
    "    T = 0\n",
    "    for i in range(0,10):\n",
    "        for j in range(0,10):\n",
    "            T +=AnljB*\n",
    "            \n",
    "    \n",
    "    return\n",
    "    "
   ]
  }
 ],
 "metadata": {
  "kernelspec": {
   "display_name": "Python 3 (ipykernel)",
   "language": "python",
   "name": "python3"
  },
  "language_info": {
   "codemirror_mode": {
    "name": "ipython",
    "version": 3
   },
   "file_extension": ".py",
   "mimetype": "text/x-python",
   "name": "python",
   "nbconvert_exporter": "python",
   "pygments_lexer": "ipython3",
   "version": "3.10.12"
  }
 },
 "nbformat": 4,
 "nbformat_minor": 5
}
